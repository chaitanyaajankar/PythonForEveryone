{
 "cells": [
  {
   "cell_type": "code",
   "execution_count": 2,
   "metadata": {},
   "outputs": [
    {
     "name": "stdout",
     "output_type": "stream",
     "text": [
      "unsupported operand type(s) for +: 'float' and 'str'\n",
      "Cleaning up\n"
     ]
    }
   ],
   "source": [
    "try:\n",
    "    a = 5 / 1\n",
    "    b = a + '10'\n",
    "except ZeroDivisionError as e:\n",
    "    print(e)\n",
    "except TypeError as e:\n",
    "    print(e)\n",
    "else:\n",
    "    print(\"Everything is fine\")\n",
    "finally:\n",
    "    print(\"Cleaning up\")"
   ]
  },
  {
   "cell_type": "code",
   "execution_count": 4,
   "metadata": {},
   "outputs": [
    {
     "name": "stdout",
     "output_type": "stream",
     "text": [
      "Value is too high\n"
     ]
    }
   ],
   "source": [
    "class ValueTooHighError(Exception):\n",
    "    pass\n",
    "def test_value(x):\n",
    "    if x>100:\n",
    "        raise ValueTooHighError(\"Value is too high\")\n",
    "\n",
    "try:\n",
    "    test_value(200)\n",
    "except ValueTooHighError as e:\n",
    "    print(e)"
   ]
  },
  {
   "cell_type": "code",
   "execution_count": null,
   "metadata": {},
   "outputs": [],
   "source": []
  }
 ],
 "metadata": {
  "kernelspec": {
   "display_name": "Python 3.9.13 64-bit (windows store)",
   "language": "python",
   "name": "python3"
  },
  "language_info": {
   "codemirror_mode": {
    "name": "ipython",
    "version": 3
   },
   "file_extension": ".py",
   "mimetype": "text/x-python",
   "name": "python",
   "nbconvert_exporter": "python",
   "pygments_lexer": "ipython3",
   "version": "3.9.13"
  },
  "orig_nbformat": 4,
  "vscode": {
   "interpreter": {
    "hash": "ba2cd48857ff4dea5bedcd735ed9914c7c243053fe06340cf7fb2f987b024f26"
   }
  }
 },
 "nbformat": 4,
 "nbformat_minor": 2
}
